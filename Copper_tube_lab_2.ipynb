{
 "cells": [
  {
   "cell_type": "code",
   "execution_count": 1,
   "metadata": {},
   "outputs": [
    {
     "name": "stdout",
     "output_type": "stream",
     "text": [
      "0.12206555615733704\n"
     ]
    }
   ],
   "source": [
    "import numpy as np\n",
    "def rule3(errA,errB):\n",
    "    errQ = np.sqrt(errA**2 + errB**2)\n",
    "    return errQ\n",
    "\n",
    "errT_i = 0.1 #C\n",
    "errT_f = 0.07 #C\n",
    "\n",
    "err_Delta_T = rule3(errT_i, errT_f)\n",
    "print (err_Delta_T)"
   ]
  },
  {
   "cell_type": "code",
   "execution_count": 17,
   "metadata": {},
   "outputs": [
    {
     "name": "stdout",
     "output_type": "stream",
     "text": [
      "2.3277424093162376e-07\n",
      "1.9819031737787377e-05\n"
     ]
    }
   ],
   "source": [
    "def rule4(Q,m,errA,A,n,errB,B,o,errC,C):\n",
    "    errQ = Q*np.sqrt((m*(errA/A))**2 + (n*(errB/B))**2 + (o*(errC/C))**2)\n",
    "    return errQ\n",
    "\n",
    "err_Delta_L = 0.00001 #m\n",
    "Delta_L = 0.00087 #m\n",
    "err_L = 0.001 #m\n",
    "L = 0.699 #m\n",
    "err_Delta_T = 0.1221 #C\n",
    "Delta_T = 62.8 #C\n",
    "m = 1\n",
    "n = 1\n",
    "o = 1\n",
    "alpha = ((Delta_L)/(L*Delta_T))\n",
    "\n",
    "err_alpha = rule4(alpha,m,err_Delta_L,Delta_L,n,err_L,L,o,err_Delta_T,Delta_T)\n",
    "print (err_alpha)\n",
    "print (alpha)"
   ]
  },
  {
   "cell_type": "code",
   "execution_count": null,
   "metadata": {},
   "outputs": [],
   "source": []
  }
 ],
 "metadata": {
  "kernelspec": {
   "display_name": "Python 3",
   "language": "python",
   "name": "python3"
  },
  "language_info": {
   "codemirror_mode": {
    "name": "ipython",
    "version": 3
   },
   "file_extension": ".py",
   "mimetype": "text/x-python",
   "name": "python",
   "nbconvert_exporter": "python",
   "pygments_lexer": "ipython3",
   "version": "3.6.5"
  }
 },
 "nbformat": 4,
 "nbformat_minor": 2
}
